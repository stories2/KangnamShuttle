{
 "cells": [
  {
   "cell_type": "code",
   "execution_count": 8,
   "metadata": {},
   "outputs": [],
   "source": [
    "from gpcharts import figure\n",
    "import json\n",
    "from dateutil import parser"
   ]
  },
  {
   "cell_type": "code",
   "execution_count": 9,
   "metadata": {},
   "outputs": [],
   "source": [
    "# my_plot = figure(title='Demo')\n",
    "# my_plot.plot([1, 2, 10, 15, 12, 23])"
   ]
  },
  {
   "cell_type": "code",
   "execution_count": 10,
   "metadata": {},
   "outputs": [
    {
     "name": "stdout",
     "output_type": "stream",
     "text": [
      "total 1360\r\n",
      "drwxr-xr-x   6 stories2  staff     192 Mar 21 22:00 \u001b[34m.\u001b[m\u001b[m/\r\n",
      "drwxr-xr-x  13 stories2  staff     416 Mar 21 21:50 \u001b[34m..\u001b[m\u001b[m/\r\n",
      "drwxr-xr-x   3 stories2  staff      96 Mar 21 21:56 \u001b[34m.ipynb_checkpoints\u001b[m\u001b[m/\r\n",
      "-rw-r--r--   1 stories2  staff    2420 Mar 21 21:56 Demo.html\r\n",
      "-rw-r--r--   1 stories2  staff     581 Mar 21 22:00 calculator.ipynb\r\n",
      "-rw-r--r--   1 stories2  staff  684308 Mar 21 21:52 data.json\r\n"
     ]
    }
   ],
   "source": [
    "ls -al"
   ]
  },
  {
   "cell_type": "code",
   "execution_count": 11,
   "metadata": {},
   "outputs": [],
   "source": [
    "with open('data.json') as dataFile:    \n",
    "    jsonData = json.load(dataFile)"
   ]
  },
  {
   "cell_type": "code",
   "execution_count": 18,
   "metadata": {},
   "outputs": [
    {
     "data": {
      "text/plain": [
       "'2018-03-12T09:05:00.942Z'"
      ]
     },
     "execution_count": 18,
     "metadata": {},
     "output_type": "execute_result"
    }
   ],
   "source": [
    "dt = parser.parse(jsonData[\"cc45108d4bf137346761df0d022f1383\"][\"time\"])\n",
    "jsonData[\"cc45108d4bf137346761df0d022f1383\"][\"time\"]"
   ]
  },
  {
   "cell_type": "code",
   "execution_count": 24,
   "metadata": {},
   "outputs": [
    {
     "data": {
      "text/plain": [
       "9"
      ]
     },
     "execution_count": 24,
     "metadata": {},
     "output_type": "execute_result"
    }
   ],
   "source": [
    "dt.hour"
   ]
  },
  {
   "cell_type": "code",
   "execution_count": 40,
   "metadata": {},
   "outputs": [],
   "source": [
    "timeSlice = [0, 0, 0, 0, 0, 0, 0, 0, 0, 0, 0, 0, 0, 0, 0, 0, 0, 0, 0, 0, 0, 0, 0, 0]"
   ]
  },
  {
   "cell_type": "code",
   "execution_count": 41,
   "metadata": {},
   "outputs": [
    {
     "data": {
      "text/plain": [
       "[18,\n",
       " 56,\n",
       " 24,\n",
       " 0,\n",
       " 0,\n",
       " 2,\n",
       " 31,\n",
       " 41,\n",
       " 245,\n",
       " 59,\n",
       " 122,\n",
       " 276,\n",
       " 156,\n",
       " 216,\n",
       " 269,\n",
       " 193,\n",
       " 169,\n",
       " 240,\n",
       " 99,\n",
       " 50,\n",
       " 37,\n",
       " 27,\n",
       " 17,\n",
       " 16]"
      ]
     },
     "execution_count": 41,
     "metadata": {},
     "output_type": "execute_result"
    }
   ],
   "source": [
    "counter = 0\n",
    "for key in jsonData:\n",
    "    userKey = jsonData[key][\"userKey\"]\n",
    "    if userKey != \"encryptedUserKey\" and userKey != \"\" and userKey != \"Ukm94DwsRaQH\":\n",
    "        dt = parser.parse(jsonData[key][\"time\"])\n",
    "        hour = (dt.hour + 9) % 24\n",
    "        timeSlice[hour] += 1\n",
    "        counter += 1\n",
    "timeSlice"
   ]
  },
  {
   "cell_type": "code",
   "execution_count": 42,
   "metadata": {},
   "outputs": [
    {
     "data": {
      "text/html": [
       "\n",
       "<html>\n",
       "<head>\n",
       "    <script src=\"https://code.jquery.com/jquery-1.10.2.js\"></script>\n",
       "    <script type=\"text/javascript\">\n",
       "    $.getScript( \"https://www.gstatic.com/charts/loader.js\", function() {\n",
       "      if ((typeof google === 'undefined') || (typeof google.visualization === 'undefined')) \n",
       "      {\n",
       "         google.charts.load('current', {'packages':['corechart']});\n",
       "      }\n",
       "\n",
       "      google.charts.setOnLoadCallback(drawChart_Demo);\n",
       "    });\n",
       "    \n",
       "    function drawChart_Demo() {\n",
       "        var dataArr = [['', 'data1'], [0, 18], [1, 56], [2, 24], [3, 0], [4, 0], [5, 2], [6, 31], [7, 41], [8, 245], [9, 59], [10, 122], [11, 276], [12, 156], [13, 216], [14, 269], [15, 193], [16, 169], [17, 240], [18, 99], [19, 50], [20, 37], [21, 27], [22, 17], [23, 16]];\n",
       "        var grTitle = 'Demo';\n",
       "        var height = 600;\n",
       "        var width = 1000;\n",
       "        var logScaleFlag = false;\n",
       "        var vAxisTitle = '';\n",
       "        var vAxisOpt;\n",
       "        if(logScaleFlag)\n",
       "        {\n",
       "            vAxisOpt = { title: vAxisTitle, logScale: true, format: 'scientific'};\n",
       "        }\n",
       "        else\n",
       "        {\n",
       "            vAxisOpt = { title: vAxisTitle };\n",
       "        }\n",
       "\n",
       "        var options = {\n",
       "            width: width,\n",
       "            height: height,\n",
       "            explorer: { actions: ['dragToZoom', 'rightClickToReset'], maxZoomIn: 0.01 },\n",
       "            curveType: 'function',\n",
       "            title: grTitle,\n",
       "            titleTextStyle: { fontSize: 18, bold: true },\n",
       "            hAxis: { title: dataArr[0][0] },\n",
       "            vAxis: vAxisOpt,\n",
       "            \n",
       "        };\n",
       "\n",
       "        var data = new google.visualization.DataTable();\n",
       "        var csvOut = \"data:text/csv;charset=utf-8\";\n",
       "        // Add column headers\n",
       "        for (var j = 0; j < dataArr[0].length; j++)\n",
       "        {\n",
       "            data.addColumn('number',dataArr[0][j]);\n",
       "            csvOut += ',' + dataArr[0][j];\n",
       "        }\n",
       "        csvOut += '\\n';\n",
       "\n",
       "        // Add columns\n",
       "        for (var i = 1; i < dataArr.length; i++)\n",
       "        {\n",
       "            data.addRow(dataArr[i]);\n",
       "            csvOut += dataArr[i].join(\",\") + '\\n';\n",
       "        }\n",
       "\n",
       "        var chart = new google.visualization.LineChart(document.getElementById('chart_div_Demo'));\n",
       "\n",
       "        chart.draw(data, options);\n",
       "        document.getElementById('pic_div_Demo').innerHTML = '<a href=\"' + chart.getImageURI() + '\" download=\"'+grTitle+'.png\">Download Figure</a>'\n",
       "        document.getElementById('csvFileDl_Demo').innerHTML = '<a href=\"' + encodeURI(csvOut) + '\" download=\"'+grTitle+'.csv\">Download CSV</a>'\n",
       "    }\n",
       "    </script>\n",
       "</head>\n",
       "<body>\n",
       "    <div id=\"chart_div_Demo\"></div>\n",
       "    <div id=\"pic_div_Demo\"></div>\n",
       "    <div id=\"csvFileDl_Demo\"></div>\n",
       "</body>\n",
       "</html>\n"
      ],
      "text/plain": [
       "<IPython.core.display.HTML object>"
      ]
     },
     "metadata": {},
     "output_type": "execute_result"
    }
   ],
   "source": [
    "my_plot = figure(title='Demo')\n",
    "my_plot.plot(timeSlice)"
   ]
  },
  {
   "cell_type": "code",
   "execution_count": null,
   "metadata": {},
   "outputs": [],
   "source": []
  }
 ],
 "metadata": {
  "kernelspec": {
   "display_name": "Python 3",
   "language": "python",
   "name": "python3"
  },
  "language_info": {
   "codemirror_mode": {
    "name": "ipython",
    "version": 3
   },
   "file_extension": ".py",
   "mimetype": "text/x-python",
   "name": "python",
   "nbconvert_exporter": "python",
   "pygments_lexer": "ipython3",
   "version": "3.6.4"
  }
 },
 "nbformat": 4,
 "nbformat_minor": 1
}
